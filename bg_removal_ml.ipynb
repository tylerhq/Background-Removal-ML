{
  "nbformat": 4,
  "nbformat_minor": 0,
  "metadata": {
    "colab": {
      "name": "u2net_bg_removal.ipynb",
      "provenance": [],
      "collapsed_sections": [],
      "include_colab_link": true
    },
    "kernelspec": {
      "name": "python3",
      "display_name": "Python 3"
    },
    "accelerator": "GPU"
  },
  "cells": [
    {
      "cell_type": "markdown",
      "metadata": {
        "id": "view-in-github",
        "colab_type": "text"
      },
      "source": [
        "<a href=\"https://colab.research.google.com/github/tylerhq/Background-Removal-ML/blob/main/bg_removal_ml.ipynb\" target=\"_parent\"><img src=\"https://colab.research.google.com/assets/colab-badge.svg\" alt=\"Open In Colab\"/></a>"
      ]
    },
    {
      "cell_type": "markdown",
      "metadata": {
        "id": "NDxOLdlGfo-Z"
      },
      "source": [
        "**Image & Video Background Removal using U-2-Net Model**\n",
        "\n",
        "Author: Nisarg Kapkar\n",
        "\n",
        "Link to [HashNode Article](https://nisargkapkar.hashnode.dev/image-and-video-background-removal-using-deep-learning)!\n",
        "\n",
        "NOTE: \n",
        "Use this NoteBook in association with the mentioned HashNode article, the article contains detailed information (which is not mentioned in this NoteBook) for various steps!\n",
        "\n",
        "Link to Github Repository:\n",
        "\n",
        "*   [Required Files](https://github.com/Nkap23/background_removal_DL)\n",
        "*   [Jupyter Notebook](https://github.com/Nkap23/u2net_bgremove_code)\n",
        "\n",
        "Link to original [U-2-Net repository](https://github.com/NathanUA)\n",
        "\n"
      ]
    },
    {
      "cell_type": "markdown",
      "metadata": {
        "id": "pRNh3E23fnlX"
      },
      "source": [
        "**STEP 1 - Select the Hardware Accelerator**\n",
        "\n",
        "Go to Runtime→Change Runtime Type and select Hardware accelerator as GPU."
      ]
    },
    {
      "cell_type": "markdown",
      "metadata": {
        "id": "avBvxS96fx8h"
      },
      "source": [
        "**STEP 2 - Mount Google Drive**"
      ]
    },
    {
      "cell_type": "code",
      "metadata": {
        "id": "S7s8p-KaEV-k"
      },
      "source": [
        "from google.colab import drive \n",
        "drive.mount('/content/gdrive')"
      ],
      "execution_count": null,
      "outputs": []
    },
    {
      "cell_type": "markdown",
      "metadata": {
        "id": "5Qp8FXBIf8To"
      },
      "source": [
        "**STEP 3 - Download the Model and Required Files** \n",
        "\n",
        "Refer to STEP 3 in [HashNode Article](https://nisargkapkar.hashnode.dev/image-and-video-background-removal-using-deep-learning) for more details!"
      ]
    },
    {
      "cell_type": "code",
      "metadata": {
        "id": "7FJsNSC3WtZ9"
      },
      "source": [
        "#cd into drive and clone the repo\n",
        "%cd '/content/gdrive/MyDrive'\n",
        "!git clone https://github.com/Nkap23/background_removal_DL.git"
      ],
      "execution_count": null,
      "outputs": []
    },
    {
      "cell_type": "markdown",
      "metadata": {
        "id": "o_-zjAyugXC4"
      },
      "source": [
        "**STEP 4 - Import Required Libraries and Functions**"
      ]
    },
    {
      "cell_type": "code",
      "metadata": {
        "id": "8JUL559FYUu3"
      },
      "source": [
        "#importing required libraries \n",
        "from cv2 import cv2 \n",
        "from PIL import Image"
      ],
      "execution_count": null,
      "outputs": []
    },
    {
      "cell_type": "markdown",
      "metadata": {
        "id": "saIcG7NEgZ3R"
      },
      "source": [
        "**STEP 5 - Uploading Image/Video for Background Removal**\n",
        "\n",
        "Refer to STEP 5 in [HashNode Article](https://nisargkapkar.hashnode.dev/image-and-video-background-removal-using-deep-learning) for more details!"
      ]
    },
    {
      "cell_type": "markdown",
      "metadata": {
        "id": "3dAf-HWugerW"
      },
      "source": [
        "**STEP 6A - Running the Interface for Images**\n",
        "\n",
        "Refer to STEP 6A in [HashNode Article](https://nisargkapkar.hashnode.dev/image-and-video-background-removal-using-deep-learning) for more details!"
      ]
    },
    {
      "cell_type": "code",
      "metadata": {
        "id": "ORgMKCtUYkSO"
      },
      "source": [
        "#for image\n",
        "\n",
        "%cd '/content/gdrive/MyDrive/background_removal_DL/test_data/images'\n",
        "!mkdir u2net_results\n",
        "\n",
        "%cd '/content/gdrive/MyDrive/background_removal_DL'\n",
        "!python u2net_image.py \n",
        "\n",
        "#u2netresult\n",
        "u2netresult=cv2.imread('/content/gdrive/MyDrive/background_removal_DL/test_data/images/u2net_results/input.png')\n",
        "#orginalimage (CHANGE FILE EXTENSION HERE - BY DEFAULT: *.jpg)\n",
        "original=cv2.imread('/content/gdrive/MyDrive/background_removal_DL/test_data/images/input/input.jpg')\n",
        "#subimage\n",
        "subimage=cv2.subtract(u2netresult,original)\n",
        "cv2.imwrite('/content/gdrive/MyDrive/background_removal_DL/test_data/images/output/output.png',subimage)\n",
        "\n",
        "#subimage\n",
        "subimage=Image.open('/content/gdrive/MyDrive/background_removal_DL/test_data/images/output/output.png')\n",
        "#originalimage\n",
        "original=Image.open('/content/gdrive/MyDrive/background_removal_DL/test_data/images/input/input.jpg')\n",
        "\n",
        "subimage=subimage.convert(\"RGBA\")\n",
        "original=original.convert(\"RGBA\")\n",
        "\n",
        "subdata=subimage.getdata()\n",
        "ogdata=original.getdata()\n",
        "\n",
        "newdata=[]\n",
        "for i in range(subdata.size[0]*subdata.size[1]):\n",
        "  if subdata[i][0]==0 and subdata[i][1]==0 and subdata[i][2]==0:\n",
        "    newdata.append((255,255,255,0))\n",
        "  else:\n",
        "    newdata.append(ogdata[i])\n",
        "subimage.putdata(newdata)\n",
        "subimage.save('/content/gdrive/MyDrive/background_removal_DL/test_data/images/output/output.png',\"PNG\")\n",
        "\n",
        "%cd '/content/gdrive/MyDrive/background_removal_DL/test_data/images'\n",
        "!rm -R u2net_results"
      ],
      "execution_count": null,
      "outputs": []
    },
    {
      "cell_type": "markdown",
      "metadata": {
        "id": "_93z7rKGgkkK"
      },
      "source": [
        "**STEP 6B - Running the Interface for Videos**\n",
        "\n",
        "Refer to STEP 6B in [HashNode Article](https://nisargkapkar.hashnode.dev/image-and-video-background-removal-using-deep-learning) for more details!"
      ]
    },
    {
      "cell_type": "code",
      "metadata": {
        "id": "EssxbbJ5gldO"
      },
      "source": [
        "#for video \n",
        "\n",
        "%cd '/content/gdrive/MyDrive/background_removal_DL/test_data/videos'\n",
        "!mkdir input_frames\n",
        "!mkdir output_frames \n",
        "!mkdir u2net_results \n",
        "\n",
        "#CHANGE INPUT FILE EXTENSION HERE - BY DEFAULT: *.mp4\n",
        "video=cv2.VideoCapture('/content/gdrive/MyDrive/background_removal_DL/test_data/videos/input/input.mp4')\n",
        "fps=video.get(cv2.CAP_PROP_FPS)\n",
        "count=0\n",
        "flag=1\n",
        "while flag:\n",
        "  flag,image=video.read()\n",
        "  if flag==0:\n",
        "    break\n",
        "  cv2.imwrite('/content/gdrive/MyDrive/background_removal_DL/test_data/videos/input_frames/'+'input'+str(count)+'.png',image)\n",
        "  count=count+1\n",
        "\n",
        "%cd '/content/gdrive/MyDrive/background_removal_DL'\n",
        "!python u2net_video.py \n",
        "\n",
        "img_array=[]\n",
        "\n",
        "for i in range(count):\n",
        "\n",
        "  #u2netreusult\n",
        "  u2netresult=cv2.imread('/content/gdrive/MyDrive/background_removal_DL/test_data/videos/u2net_results/input'+str(i)+'.png')\n",
        "  #original\n",
        "  original=cv2.imread('/content/gdrive/MyDrive/background_removal_DL/test_data/videos/input_frames/input'+str(i)+'.png')\n",
        "  #subimage\n",
        "  subimage=cv2.subtract(u2netresult,original)\n",
        "  cv2.imwrite('/content/gdrive/MyDrive/background_removal_DL/test_data/videos/output_frames/output'+str(i)+'.png',subimage)\n",
        "\n",
        "  #subimage\n",
        "  subimage=Image.open('/content/gdrive/MyDrive/background_removal_DL/test_data/videos/output_frames/output'+str(i)+'.png')\n",
        "  #original\n",
        "  original=Image.open('/content/gdrive/MyDrive/background_removal_DL/test_data/videos/input_frames/input'+str(i)+'.png')\n",
        "\n",
        "  subimage=subimage.convert(\"RGBA\")\n",
        "  original=original.convert(\"RGBA\")\n",
        "\n",
        "  subdata=subimage.getdata()\n",
        "  ogdata=original.getdata()\n",
        "\n",
        "  newdata=[]\n",
        "  for i in range(subdata.size[0]*subdata.size[1]):\n",
        "    if subdata[i][0]==0 and subdata[i][1]==0 and subdata[i][2]==0:\n",
        "      newdata.append((255,255,255,0))\n",
        "    else:\n",
        "      newdata.append(ogdata[i])\n",
        "  subimage.putdata(newdata)\n",
        "  subimage.save('/content/gdrive/MyDrive/background_removal_DL/test_data/videos/output_frames/output'+str(i)+'.png',\"PNG\")\n",
        "\n",
        "  final_img=cv2.imread('/content/gdrive/MyDrive/background_removal_DL/test_data/videos/output_frames/output'+str(i)+'.png')\n",
        "  ht,wd,l=final_img.shape\n",
        "  sz=(wd,ht)\n",
        "  img_array.append(final_img)\n",
        "\n",
        "#CHANGE OUTPUT FILE EXTENSION HERE - BY DEFAULT: *.mp4\n",
        "outv=cv2.VideoWriter('/content/gdrive/MyDrive/background_removal_DL/test_data/videos/output/output.mp4',cv2.VideoWriter_fourcc(*'MP4V'),fps,sz)\n",
        "\n",
        "for i in img_array:\n",
        "  outv.write(i)\n",
        "  \n",
        "outv.release()\n",
        "\n",
        "%cd '/content/gdrive/MyDrive/background_removal_DL/test_data/videos'\n",
        "!rm -R u2net_results\n",
        "!rm -R input_frames\n",
        "!rm -R output_frames"
      ],
      "execution_count": null,
      "outputs": []
    }
  ]
}